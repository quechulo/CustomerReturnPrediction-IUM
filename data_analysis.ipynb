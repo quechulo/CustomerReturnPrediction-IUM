{
 "cells": [
  {
   "cell_type": "code",
   "execution_count": null,
   "outputs": [],
   "source": [
    "import seaborn as sns\n",
    "import matplotlib.pyplot as plt\n",
    "import scipy.stats as ss\n",
    "import pandas as pd\n",
    "import numpy as np\n",
    "import datetime\n",
    "\n",
    "\n",
    "# fact table\n",
    "sessions_df = pd.read_json(\"data/sessions.jsonl\", lines=True)\n",
    "\n",
    "# dimension tables\n",
    "deliveries_df = pd.read_json(\"data/deliveries.jsonl\", lines=True)\n",
    "products_df = pd.read_json(\"data/products.jsonl\", lines=True)\n",
    "users_df = pd.read_json(\"data/users.jsonl\", lines=True)"
   ],
   "metadata": {
    "collapsed": false,
    "pycharm": {
     "name": "#%%\n"
    }
   }
  },
  {
   "cell_type": "code",
   "execution_count": null,
   "outputs": [],
   "source": [
    "#MAKE_PLOTS = True\n",
    "#MAKE_PAIRPLOT = True\n",
    "DATE_FORMAT = \"%Y-%m-%dT%H:%M:%S\"\n",
    "PRICE_MAX = 100_000    # for outliers\n",
    "#WEIGHT_TRESHOLD = 50        # for outliers\n",
    "#NUM_OF_HOURS = 12\n",
    "#SEED = 42\n",
    "SHOW_ALL_WARNINGS = False\n",
    "SHOW_ONLY_ONE_WARNING = False"
   ],
   "metadata": {
    "collapsed": false,
    "pycharm": {
     "name": "#%%\n"
    }
   }
  },
  {
   "cell_type": "code",
   "execution_count": null,
   "outputs": [],
   "source": [
    "import warnings\n",
    "\n",
    "if SHOW_ONLY_ONE_WARNING:\n",
    "    warnings.filterwarnings(action='once')\n",
    "elif not SHOW_ALL_WARNINGS:\n",
    "    warnings.filterwarnings('ignore')"
   ],
   "metadata": {
    "collapsed": false,
    "pycharm": {
     "name": "#%%\n"
    }
   }
  },
  {
   "cell_type": "code",
   "execution_count": null,
   "outputs": [],
   "source": [
    "sessions_df"
   ],
   "metadata": {
    "collapsed": false,
    "pycharm": {
     "name": "#%%\n"
    }
   }
  },
  {
   "cell_type": "markdown",
   "source": [
    "## adding a column with time of delivery"
   ],
   "metadata": {
    "collapsed": false,
    "pycharm": {
     "name": "#%% md\n"
    }
   }
  },
  {
   "cell_type": "code",
   "execution_count": null,
   "outputs": [],
   "source": [
    "# 1. Change format to datetime\n",
    "\n",
    "deliveries_df[\"purchase_timestamp\"] = pd.to_datetime(deliveries_df[\"purchase_timestamp\"], format=DATE_FORMAT)\n",
    "deliveries_df[\"delivery_timestamp\"] = pd.to_datetime(deliveries_df[\"delivery_timestamp\"], format=DATE_FORMAT)\n",
    "\n",
    "# 2. Add column time_of_delivery\n",
    "deliveries_df[\"time_of_delivery\"] = deliveries_df[\"delivery_timestamp\"] - deliveries_df[\"purchase_timestamp\"]\n",
    "\n",
    "# 3. Delete not delivered products\n",
    "deliveries_df = deliveries_df[deliveries_df[\"time_of_delivery\"].notna()]\n",
    "\n",
    "# 4. Set time_of_delivery as seconds\n",
    "deliveries_df[\"time_of_delivery\"] = deliveries_df[\"time_of_delivery\"].apply(datetime.timedelta.total_seconds)\n"
   ],
   "metadata": {
    "collapsed": false,
    "pycharm": {
     "name": "#%%\n"
    }
   }
  },
  {
   "cell_type": "markdown",
   "source": [
    "## join tables"
   ],
   "metadata": {
    "collapsed": false,
    "pycharm": {
     "name": "#%% md\n"
    }
   }
  },
  {
   "cell_type": "code",
   "execution_count": null,
   "outputs": [],
   "source": [
    "# join rows where event_type is equal \"BUY_PRODUCT\"\n",
    "# df.loc[df['col1'] == value]\n",
    "sessions_df = sessions_df.loc[sessions_df[\"event_type\"] == \"BUY_PRODUCT\"]\n",
    "df = sessions_df.merge(products_df, on=\"product_id\", how=\"left\")\n",
    "df = df.merge(deliveries_df, on=\"purchase_id\", how=\"right\")\n",
    "df = df.merge(users_df, on=\"user_id\", how=\"left\")\n",
    "\n",
    "\n",
    "df.to_csv('rrr.csv', 'w')\n",
    "df"
   ],
   "metadata": {
    "collapsed": false,
    "pycharm": {
     "name": "#%%\n"
    }
   }
  },
  {
   "cell_type": "markdown",
   "source": [
    "## add column with information about returning - 0/1"
   ],
   "metadata": {
    "collapsed": false,
    "pycharm": {
     "name": "#%% md\n"
    }
   }
  },
  {
   "cell_type": "code",
   "execution_count": null,
   "outputs": [],
   "source": [
    "sessions_df_2 = pd.read_json(\"data/sessions.jsonl\", lines=True)\n",
    "sessions_df_2 = sessions_df_2.loc[sessions_df_2[\"event_type\"] == \"RETURN_PRODUCT\"]\n",
    "sessions_df_2 = sessions_df_2.drop(columns=[\"session_id\", \"timestamp\", \"user_id\", \"product_id\", \"offered_discount\"])\n",
    "\n",
    "sessions_df_2.rename(columns = {'event_type':'return_label'}, inplace = True)\n",
    "df = df.merge(sessions_df_2, on=\"purchase_id\", how=\"left\")\n",
    "\n",
    "df['return_label'] = df['return_label'].replace(np.nan, 0)\n",
    "df['return_label'] = df['return_label'].replace(\"RETURN_PRODUCT\", 1)\n",
    "\n",
    "df.to_json('rrr.json')\n",
    "df"
   ],
   "metadata": {
    "collapsed": false,
    "pycharm": {
     "name": "#%%\n"
    }
   }
  },
  {
   "cell_type": "code",
   "execution_count": null,
   "outputs": [],
   "source": [
    "to_show_price_df = df[df[\"price\"] <= PRICE_MAX]\n",
    "to_show_price_df = to_show_price_df[to_show_price_df[\"price\"] > 0]\n",
    "to_show_price_df.hist(column=\"price\")"
   ],
   "metadata": {
    "collapsed": false,
    "pycharm": {
     "name": "#%%\n"
    }
   }
  },
  {
   "cell_type": "code",
   "execution_count": null,
   "outputs": [],
   "source": [
    "to_show_weight_df = df\n",
    "to_show_weight_df = to_show_weight_df[to_show_weight_df[\"weight_kg\"] <= 50]\n",
    "\n",
    "to_show_weight_df.hist(column=\"weight_kg\")"
   ],
   "metadata": {
    "collapsed": false,
    "pycharm": {
     "name": "#%%\n"
    }
   }
  },
  {
   "cell_type": "code",
   "execution_count": null,
   "outputs": [],
   "source": [
    "df.hist(column=\"time_of_delivery\")"
   ],
   "metadata": {
    "collapsed": false,
    "pycharm": {
     "name": "#%%\n"
    }
   }
  },
  {
   "cell_type": "markdown",
   "source": [
    "## "
   ],
   "metadata": {
    "collapsed": false,
    "pycharm": {
     "name": "#%% md\n"
    }
   }
  },
  {
   "cell_type": "code",
   "execution_count": null,
   "outputs": [],
   "source": [
    "def update_list_of_columns():\n",
    "    banned_list_of_columns = [ ]\n",
    "    columns_list = [col for col in df.columns.values.tolist() if col not in banned_list_of_columns]\n",
    "    return columns_list\n",
    "\n",
    "columns_list = update_list_of_columns()\n",
    "columns_list"
   ],
   "metadata": {
    "collapsed": false,
    "pycharm": {
     "name": "#%%\n"
    }
   }
  },
  {
   "cell_type": "code",
   "execution_count": null,
   "outputs": [],
   "source": [
    "#sns.heatmap(df[columns_list].corr('spearman'));\n",
    "sns.heatmap(df[columns_list].corr('pearson'), square=True)"
   ],
   "metadata": {
    "collapsed": false,
    "pycharm": {
     "name": "#%%\n"
    }
   }
  },
  {
   "cell_type": "code",
   "execution_count": null,
   "outputs": [],
   "source": [
    "df"
   ],
   "metadata": {
    "collapsed": false,
    "pycharm": {
     "name": "#%%\n"
    }
   }
  },
  {
   "cell_type": "code",
   "execution_count": null,
   "outputs": [],
   "source": [
    "\n",
    "X = df.copy()\n",
    "# #['time_of_delivery'] = X['time_of_delivery'] / 1000000\n",
    "# #X = X.drop(columns=[\"optional_attributes\",\"session_id\",\"timestamp\",\"user_id\",\"product_id\",\"event_type\",\"offered_discount\", \"purchase_id\", \"product_name\", \"category_path\", \"brand\", \"weight_kg\",\"purchase_timestamp\", \"delivery_timestamp\", \"delivery_company\",\"time_of_delivery\", \"name\", \"city\",\"street\", \"return_label\"])\n",
    "# #X = X.drop(columns=[\"optional_attributes\",\"session_id\",\"timestamp\",\"user_id\",\"product_id\",\"event_type\",\"offered_discount\", \"purchase_id\", \"product_name\", \"category_path\", \"brand\", \"weight_kg\", \"purchase_timestamp\", \"delivery_timestamp\", \"delivery_company\", \"time_of_delivery\", \"name\", \"city\",\"street\", \"return_label\"])\n",
    "# X = X.drop(columns=[\"optional_attributes\"])\n",
    "\n",
    "# # X.to_csv('rrr.csv', 'w')\n",
    "y = X.pop(\"return_label\")\n",
    "\n",
    "# # Label encoding for categoricals\n",
    "# for colname in X.select_dtypes(\"object\"):\n",
    "#     X[colname], _ = X[colname].factorize()\n",
    "\n",
    "# # All discrete features should now have integer dtypes (double-check this before using MI!)\n",
    "# discrete_features = X.dtypes == int\n",
    "X[['price', 'time_of_delivery', 'session_id',\"user_id\",\"product_id\",\"offered_discount\", 'weight_kg', \"time_of_delivery\"]]"
   ],
   "metadata": {
    "collapsed": false,
    "pycharm": {
     "name": "#%%\n"
    }
   }
  },
  {
   "cell_type": "code",
   "execution_count": null,
   "outputs": [],
   "source": [
    "from sklearn.feature_selection import mutual_info_classif\n",
    "\n",
    "\n",
    "def make_mi_scores(X, y, discrete_features):\n",
    "    mi_scores = mutual_info_classif(X, y)\n",
    "    mi_scores = pd.Series(mi_scores, name=\"MI Scores\", index=X.columns)\n",
    "    mi_scores = mi_scores.sort_values(ascending=False)\n",
    "    return mi_scores\n",
    "\n",
    "#mi_scores = make_mi_scores(X, y, discrete_features)\n",
    "#mi_scores[::3]  # show a few features with their MI scores\n",
    "mutual_info_classif(X[['price', 'time_of_delivery', 'session_id',\"user_id\",\"product_id\",\"offered_discount\", \"purchase_id\",'weight_kg', \"time_of_delivery\"]], y)"
   ],
   "metadata": {
    "collapsed": false,
    "pycharm": {
     "name": "#%%\n"
    }
   }
  }
 ],
 "metadata": {
  "interpreter": {
   "hash": "710ec0da7f83002e1307be9f08ce959187fa9ce9efd0c614126dbcae9b2ccd5e"
  },
  "kernelspec": {
   "display_name": "Python 3",
   "language": "python",
   "name": "python3"
  },
  "language_info": {
   "codemirror_mode": {
    "name": "ipython",
    "version": 3
   },
   "file_extension": ".py",
   "mimetype": "text/x-python",
   "name": "python",
   "nbconvert_exporter": "python",
   "pygments_lexer": "ipython3",
   "version": "3.7.6"
  }
 },
 "nbformat": 4,
 "nbformat_minor": 2
}